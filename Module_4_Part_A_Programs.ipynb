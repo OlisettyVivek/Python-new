{
  "nbformat": 4,
  "nbformat_minor": 0,
  "metadata": {
    "colab": {
      "name": "Module-4 Part-A Programs.ipynb",
      "provenance": [],
      "include_colab_link": true
    },
    "kernelspec": {
      "name": "python3",
      "display_name": "Python 3"
    },
    "language_info": {
      "name": "python"
    }
  },
  "cells": [
    {
      "cell_type": "markdown",
      "metadata": {
        "id": "view-in-github",
        "colab_type": "text"
      },
      "source": [
        "<a href=\"https://colab.research.google.com/github/OlisettyVivek/Python-new/blob/module4/Module_4_Part_A_Programs.ipynb\" target=\"_parent\"><img src=\"https://colab.research.google.com/assets/colab-badge.svg\" alt=\"Open In Colab\"/></a>"
      ]
    },
    {
      "cell_type": "code",
      "execution_count": null,
      "metadata": {
        "id": "UtU7T6Rf8zdS"
      },
      "outputs": [],
      "source": [
        "import sqlite3 #to import the python package sqlite3 "
      ]
    },
    {
      "cell_type": "code",
      "source": [
        "db=sqlite3.connect('test.db')  #to establish a connection to a existing or new databse"
      ],
      "metadata": {
        "id": "zIjLmhYM9S3_"
      },
      "execution_count": null,
      "outputs": []
    },
    {
      "cell_type": "code",
      "source": [
        "#To create a new table\n",
        "import sqlite3 #import the python database package\n",
        "db=sqlite3.connect('test.db') #connect() fucntion returns a connection object refering to the existing or new database\n",
        "try:\n",
        "  cur=db.cursor() # Cursor() returns cursor object which uses this connection\n",
        "  cur.execute(\"Create table student(StudentID integer   Primary key autoincrement, name text (20) Not null, age Integer, marks Real)\")\n",
        "  #execute() the sql query in a tring parameter\n",
        "  db.commit()  # commit() function commits any pending transction\n",
        "  print(\" table created success message\")\n",
        "except:\n",
        "  print(\"error\")\n",
        "  db.rollback #this function causes a transaction to be rolled back to starting point\n",
        "db.close() #to close the connection"
      ],
      "metadata": {
        "colab": {
          "base_uri": "https://localhost:8080/"
        },
        "id": "g5ZaJgQQ9qkW",
        "outputId": "626fa1c8-c2e5-4566-aee0-36d85c2e46b0"
      },
      "execution_count": null,
      "outputs": [
        {
          "output_type": "stream",
          "name": "stdout",
          "text": [
            " table created success message\n"
          ]
        }
      ]
    },
    {
      "cell_type": "code",
      "source": [
        "#To insert s new record into the table\n",
        "import sqlite3\n",
        "db=sqlite3.connect('test.db')\n",
        "qry=\"insert into student (StudentID, name, age, marks) values(1024,'Swetha', 35, 95)\"\n",
        "try:\n",
        "  cur=db.cursor()\n",
        "  cur.execute(qry)\n",
        "  db.commit()\n",
        "  print(\"onerecord added into table\")\n",
        "except:\n",
        "  print(\"error\")\n",
        "  db.rollback()\n",
        "db.close()"
      ],
      "metadata": {
        "colab": {
          "base_uri": "https://localhost:8080/"
        },
        "id": "bHtXjg7s91lk",
        "outputId": "d34e56c8-a7c1-4b61-dea1-bae467033b78"
      },
      "execution_count": null,
      "outputs": [
        {
          "output_type": "stream",
          "name": "stdout",
          "text": [
            "onerecord added into table\n"
          ]
        }
      ]
    },
    {
      "cell_type": "code",
      "source": [
        "#To insert a new record using ? character\n",
        "import sqlite3\n",
        "db=sqlite3.connect('test.db')\n",
        "qry=\"insert into student (StudentID, name, age, marks) values(?,?,?,?)\"\n",
        "try:\n",
        "  cur=db.cursor()\n",
        "  cur.execute(qry, (1020, 'Nandini', 25, 78))\n",
        "  db.commit()\n",
        "  print(\"onerecord added into table\")\n",
        "except:\n",
        "  print(\"error\")\n",
        "  db.rollback()\n",
        "db.close()"
      ],
      "metadata": {
        "colab": {
          "base_uri": "https://localhost:8080/"
        },
        "id": "6PR0VJVJ-Hp2",
        "outputId": "85e73d56-2db0-4299-ce15-78187623dadd"
      },
      "execution_count": null,
      "outputs": [
        {
          "output_type": "stream",
          "name": "stdout",
          "text": [
            "onerecord added into table\n"
          ]
        }
      ]
    },
    {
      "cell_type": "code",
      "source": [
        "#To insert two or more than two records into the table\n",
        "import sqlite3\n",
        "db=sqlite3.connect('test.db')\n",
        "qry=\"insert into student (StudentID, name, age, marks) values(?,?,?,?)\"\n",
        "students=[(1001,'Amar',20,56), (1011,'Deepak',25,87)]\n",
        "try:\n",
        "  cur=db.cursor()\n",
        "  cur.executemany(qry,students)\n",
        "#executemany() executes sql query using aset of parameters in the list of tuples\n",
        "  db.commit()\n",
        "  print(\"records added into table\")\n",
        "except:\n",
        "  print(\"error\")\n",
        "  db.rollback()\n",
        "db.close()\n"
      ],
      "metadata": {
        "colab": {
          "base_uri": "https://localhost:8080/"
        },
        "id": "Lqh9OwXE-Pqe",
        "outputId": "7a0c8b40-8084-4767-d8a3-e1b98cdda104"
      },
      "execution_count": null,
      "outputs": [
        {
          "output_type": "stream",
          "name": "stdout",
          "text": [
            "records added into table\n"
          ]
        }
      ]
    },
    {
      "cell_type": "code",
      "source": [
        "#To retrieve a record or all records from the table\n",
        "import sqlite3\n",
        "db=sqlite3.connect('test.db')\n",
        "sql=\"Select * from student\"\n",
        "cur=db.cursor()\n",
        "cur.execute(sql)\n",
        "'''while True:\n",
        "  record=cur.fetchone\n",
        "#fetch() -fetch the next row from the rquery result set\n",
        "  if record==None:\n",
        "    break\n",
        "  print(record)'''\n",
        "students=cur.fetchall()\n",
        "for i in students:\n",
        "  print(i)\n",
        "  #fetchall()- fetches all the remaining rows from the query result set"
      ],
      "metadata": {
        "colab": {
          "base_uri": "https://localhost:8080/"
        },
        "id": "2jKUSM19-dgO",
        "outputId": "21bf5c02-70c2-4037-91e0-b5f4d8a781ed"
      },
      "execution_count": null,
      "outputs": [
        {
          "output_type": "stream",
          "name": "stdout",
          "text": [
            "(1001, 'Amar', 20, 56.0)\n",
            "(1011, 'Deepak', 25, 87.0)\n",
            "(1020, 'Nandini', 25, 78.0)\n",
            "(1024, 'Swetha', 35, 95.0)\n"
          ]
        }
      ]
    },
    {
      "cell_type": "code",
      "source": [
        "#To update a record of the table\n",
        "import sqlite3\n",
        "db=sqlite3.connect('test.db')\n",
        "qry=\"update student set age=?  where name=?\"\n",
        "try:\n",
        "  cur=db.cursor()\n",
        "  cur.execute(qry, (21,'Swetha'))\n",
        "  db.commit()\n",
        "  print(\"record updated succesffully\")\n",
        "except:\n",
        "  print('error')\n",
        "  db.rollback()\n",
        "db.close()\n"
      ],
      "metadata": {
        "colab": {
          "base_uri": "https://localhost:8080/"
        },
        "id": "APicTBDm-p_-",
        "outputId": "7d2df940-ea83-4369-d441-fb8fd37e28e5"
      },
      "execution_count": null,
      "outputs": [
        {
          "output_type": "stream",
          "name": "stdout",
          "text": [
            "record updated succesffully\n"
          ]
        }
      ]
    },
    {
      "cell_type": "code",
      "source": [
        "#After updating the record , to retrieve the details of the table\n",
        "import sqlite3\n",
        "db=sqlite3.connect('test.db')\n",
        "sql=\"Select * from student\"\n",
        "cur=db.cursor()\n",
        "cur.execute(sql)\n",
        "students=cur.fetchall()\n",
        "for i in students:\n",
        "  print(i)"
      ],
      "metadata": {
        "colab": {
          "base_uri": "https://localhost:8080/"
        },
        "id": "eo5JZVsG-4NW",
        "outputId": "bd20b6e4-37c0-4d20-cda6-ef9200fac942"
      },
      "execution_count": null,
      "outputs": [
        {
          "output_type": "stream",
          "name": "stdout",
          "text": [
            "(1001, 'Amar', 20, 56.0)\n",
            "(1011, 'Deepak', 25, 87.0)\n",
            "(1020, 'Nandini', 25, 78.0)\n",
            "(1024, 'Swetha', 21, 95.0)\n"
          ]
        }
      ]
    },
    {
      "cell_type": "code",
      "source": [
        "#To delete a record from the table\n",
        "import sqlite3\n",
        "db=sqlite3.connect('test.db')\n",
        "qry=\"Delete from student where name=?\"\n",
        "try:\n",
        "  cur=db.cursor()\n",
        "  cur.execute(qry, ('Nandini',))\n",
        "  db.commit()\n",
        "  print(\"record deleted succesffully\")\n",
        "except:\n",
        "  print('error')\n",
        "  db.rollback()\n",
        "db.close()\n"
      ],
      "metadata": {
        "colab": {
          "base_uri": "https://localhost:8080/"
        },
        "id": "MPlHlkil-x8O",
        "outputId": "d9310569-1c2d-47d3-c550-8a2578b35be4"
      },
      "execution_count": null,
      "outputs": [
        {
          "output_type": "stream",
          "name": "stdout",
          "text": [
            "record deleted succesffully\n"
          ]
        }
      ]
    },
    {
      "cell_type": "code",
      "source": [
        "#After deleting the record , to retrieve the details of the table\n",
        "import sqlite3\n",
        "db=sqlite3.connect('test.db')\n",
        "sql=\"Select * from student\"\n",
        "cur=db.cursor()\n",
        "cur.execute(sql)\n",
        "students=cur.fetchall()\n",
        "for i in students:\n",
        "  print(i)"
      ],
      "metadata": {
        "colab": {
          "base_uri": "https://localhost:8080/"
        },
        "id": "WCOFiJoL__Lu",
        "outputId": "d5cfb323-1021-439e-ad6b-efe067be4c46"
      },
      "execution_count": null,
      "outputs": [
        {
          "output_type": "stream",
          "name": "stdout",
          "text": [
            "(1001, 'Amar', 20, 56.0)\n",
            "(1011, 'Deepak', 25, 87.0)\n",
            "(1024, 'Swetha', 21, 95.0)\n"
          ]
        }
      ]
    }
  ]
}