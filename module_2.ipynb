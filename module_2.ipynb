{
  "nbformat": 4,
  "nbformat_minor": 0,
  "metadata": {
    "colab": {
      "name": "module 2",
      "provenance": [],
      "collapsed_sections": [],
      "toc_visible": true,
      "include_colab_link": true
    },
    "kernelspec": {
      "name": "python3",
      "display_name": "Python 3"
    },
    "language_info": {
      "name": "python"
    }
  },
  "cells": [
    {
      "cell_type": "markdown",
      "metadata": {
        "id": "view-in-github",
        "colab_type": "text"
      },
      "source": [
        "<a href=\"https://colab.research.google.com/github/OlisettyVivek/Python-new/blob/module2/module_2.ipynb\" target=\"_parent\"><img src=\"https://colab.research.google.com/assets/colab-badge.svg\" alt=\"Open In Colab\"/></a>"
      ]
    },
    {
      "cell_type": "code",
      "execution_count": null,
      "metadata": {
        "colab": {
          "base_uri": "https://localhost:8080/"
        },
        "id": "mJi2PS4j45bW",
        "outputId": "0211f8c1-cec8-41a2-9058-84dff4c9907a"
      },
      "outputs": [
        {
          "output_type": "stream",
          "name": "stdout",
          "text": [
            "10\n",
            "20\n",
            "0\n"
          ]
        }
      ],
      "source": [
        "#Create a function which accepts two inputs from the user and compute nCr\n",
        "def nCr (l,d):\n",
        "  return(fact(l)/(fact(d)\n",
        "                  *fact(l-d)))\n",
        "l=int(input(\"\"))\n",
        "d=int(input(\"\"))\n",
        "def fact(l):\n",
        "    res=1\n",
        "    for i in range(2,l+1):\n",
        "      res =res*i\n",
        "    return res\n",
        "print(int(nCr(l,d)))"
      ]
    },
    {
      "cell_type": "code",
      "source": [
        "#Program to print a specified list after removing the 0th, 4th and 5th elements.\n",
        "#Sample List : ['Red', 'Green', 'White', 'Black', 'Pink', 'Yellow']\n",
        "#Exour)pected Output : ['Green', 'White', 'Black']\n",
        "\n",
        "\n",
        "colour=['Red', 'Green', 'White', 'Black', 'Pink', 'Yellow']\n",
        "colour=[x for (i,x) in enumerate (colour) if i not in (0,4,5)]\n",
        "print(colour)"
      ],
      "metadata": {
        "colab": {
          "base_uri": "https://localhost:8080/"
        },
        "id": "GIDRy2GR5JUC",
        "outputId": "dffc1dc4-7810-40c7-8b76-71f8851e78f6"
      },
      "execution_count": null,
      "outputs": [
        {
          "output_type": "stream",
          "name": "stdout",
          "text": [
            "['Green', 'White', 'Black']\n"
          ]
        }
      ]
    },
    {
      "cell_type": "code",
      "source": [
        "##Given list of tuples, remove all the tuples with length K.\n",
        "##Input : test_list = [(4, 5), (4, ), (8, 6, 7), (1, ), (3, 4, 6, 7)], K = 2\n",
        "##Output : [(4, ), (8, 6, 7), (1, ), (3, 4, 6, 7)]\n",
        "\n",
        "\n",
        "my_list=[(4, 5), (4, ), (8, 6, 7), (1, ), (3, 4, 6, 7)]\n",
        "\n",
        "print(\"The list is : \" )\n",
        "print(my_list)\n",
        "\n",
        "k=2\n",
        "print(\"the value of k is \")\n",
        "print(k)\n",
        "my_result =[ele for ele in my_list if len(ele) !=k]\n",
        "\n",
        "print(\"the filtered list is : \")\n",
        "print(my_result)"
      ],
      "metadata": {
        "colab": {
          "base_uri": "https://localhost:8080/"
        },
        "id": "J0LaYO0t5grJ",
        "outputId": "d8d5d435-7e4f-4358-877d-94a65924ac42"
      },
      "execution_count": null,
      "outputs": [
        {
          "output_type": "stream",
          "name": "stdout",
          "text": [
            "The list is : \n",
            "[(4, 5), (4,), (8, 6, 7), (1,), (3, 4, 6, 7)]\n",
            "the value of k is \n",
            "2\n",
            "the filtered list is : \n",
            "[(4,), (8, 6, 7), (1,), (3, 4, 6, 7)]\n"
          ]
        }
      ]
    },
    {
      "cell_type": "code",
      "source": [
        "##Program to get the difference between the two lists.\n",
        "a=[1,2,3,4,5]\n",
        "b=[6,7,8,9,3]\n",
        "diff_a_b=list(set(a)-set(b))\n",
        "diff_b_a=list(set(b)-set(a))\n",
        "total_diff=diff_a_b + diff_b_a\n",
        "print(total_diff)\n",
        "\n"
      ],
      "metadata": {
        "colab": {
          "base_uri": "https://localhost:8080/"
        },
        "id": "Zz6HxHhk57wA",
        "outputId": "069df534-0216-4b1d-cf89-2349d828e7ba"
      },
      "execution_count": null,
      "outputs": [
        {
          "output_type": "stream",
          "name": "stdout",
          "text": [
            "[1, 2, 4, 5, 8, 9, 6, 7]\n"
          ]
        }
      ]
    },
    {
      "cell_type": "code",
      "source": [
        "##Given a list of numbers of list, write a Python program to create a list of tuples\n",
        "##having first element as the number and second element as the square of the\n",
        "##number.\n",
        "my_list = [4, 5, 7, 9, 12]\n",
        "print(\"The list is \")\n",
        "print(my_list)\n",
        "print(\"The resultant tuple is :\")\n",
        "my_result = [(val, pow(val, 2)) for val in my_list]\n",
        "print(my_result)"
      ],
      "metadata": {
        "colab": {
          "base_uri": "https://localhost:8080/"
        },
        "id": "BHEqwqBg6CZu",
        "outputId": "0318c94a-0562-445a-b1b3-37a003087969"
      },
      "execution_count": null,
      "outputs": [
        {
          "output_type": "stream",
          "name": "stdout",
          "text": [
            "The list is \n",
            "[4, 5, 7, 9, 12]\n",
            "The resultant tuple is :\n",
            "[(4, 16), (5, 25), (7, 49), (9, 81), (12, 144)]\n"
          ]
        }
      ]
    },
    {
      "cell_type": "code",
      "source": [
        "##Program to generate and print a dictionary that contains a number (between 1\n",
        "##and n) in the form (x, x*x).\n",
        "\n",
        "n=int(input(\"input a number\"))\n",
        "d = dict()\n",
        "\n",
        "for x in range(1,n+1):\n",
        "  d[x]=x*x\n",
        "\n",
        "print(d)\n"
      ],
      "metadata": {
        "colab": {
          "base_uri": "https://localhost:8080/"
        },
        "id": "MqqGGPc36Gf_",
        "outputId": "469c2adf-ab4a-46f7-944d-4bfd5185c367"
      },
      "execution_count": 2,
      "outputs": [
        {
          "output_type": "stream",
          "name": "stdout",
          "text": [
            "input a number10\n",
            "{1: 1, 2: 4, 3: 9, 4: 16, 5: 25, 6: 36, 7: 49, 8: 64, 9: 81, 10: 100}\n"
          ]
        }
      ]
    },
    {
      "cell_type": "code",
      "source": [
        "##Program to remove a key from a dictionary\n",
        "myDict = {'a':1,'b':2,'c':3,'d':4}\n",
        "print(myDict)\n",
        "if 'a' in myDict:\n",
        "  del myDict['a']\n",
        "print(myDict)"
      ],
      "metadata": {
        "colab": {
          "base_uri": "https://localhost:8080/"
        },
        "id": "eLBiTIVa6Mim",
        "outputId": "07516cdd-9374-4d0d-9a7d-ebef44b9a75a"
      },
      "execution_count": null,
      "outputs": [
        {
          "output_type": "stream",
          "name": "stdout",
          "text": [
            "{'a': 1, 'b': 2, 'c': 3, 'd': 4}\n",
            "{'b': 2, 'c': 3, 'd': 4}\n"
          ]
        }
      ]
    },
    {
      "cell_type": "code",
      "source": [
        "##program to get the maximum and minimum value in a dictionary.\n",
        "my_numbers={\"1\":24,\"w\":98,\"3\":87,\"4\":76}\n",
        "max_value=max(my_numbers, key=my_numbers.get)\n",
        "min_value=min(my_numbers, key=my_numbers.get)\n",
        "print(\"the maximum value in the given numbers has a key:'\"+max_value+\"' and its value is:\",my_numbers[max_value])\n",
        "print(\"the minimum value in the given numbers has a key:'\"+min_value+\"' and its value is:\",my_numbers[min_value])"
      ],
      "metadata": {
        "colab": {
          "base_uri": "https://localhost:8080/"
        },
        "id": "qgU3wZiB6R5N",
        "outputId": "0d94927b-8197-4545-9023-6dd2a0aeb93c"
      },
      "execution_count": null,
      "outputs": [
        {
          "output_type": "stream",
          "name": "stdout",
          "text": [
            "the maximum value in the given numbers has a key:'w' and its value is: 98\n",
            "the minimum value in the given numbers has a key:'1' and its value is: 24\n"
          ]
        }
      ]
    },
    {
      "cell_type": "code",
      "source": [
        "##Program for Counting occurrence of a certain element in a string, getting indexes that\n",
        "##have matching elements.For ex -.In Rabbit count how many times b has occurred .\n",
        "##Example-I have to go to a doctor and get myself checked. Count the number of\n",
        "##occXrrences of µWo¶.\n",
        "friend1=\"yaswanth\"\n",
        "print(friend1.count(\"s\"))\n",
        "string=\"have to eat fast\"\n",
        "print(string.count(\"e\"))"
      ],
      "metadata": {
        "colab": {
          "base_uri": "https://localhost:8080/"
        },
        "id": "zfLb6MIY6W9l",
        "outputId": "acc11267-1456-4cc3-fed4-ee392d194833"
      },
      "execution_count": null,
      "outputs": [
        {
          "output_type": "stream",
          "name": "stdout",
          "text": [
            "0\n",
            "5\n"
          ]
        }
      ]
    },
    {
      "cell_type": "code",
      "source": [
        "##Program to find the second smallest number and second largest number in a list.\n",
        "numbers=[33,56,47,98,78,67]\n",
        "numbers.sort()\n",
        "print(numbers)\n",
        "print(\"2nd smallest number is:\",numbers[2])\n",
        "print(\"2nd largestt number is:\",numbers[len(numbers)-2])\n"
      ],
      "metadata": {
        "colab": {
          "base_uri": "https://localhost:8080/"
        },
        "id": "iUp4HxJb6dZF",
        "outputId": "c45a7c2d-3ef9-4940-fb5c-23d6b3851f9d"
      },
      "execution_count": null,
      "outputs": [
        {
          "output_type": "stream",
          "name": "stdout",
          "text": [
            "[33, 47, 56, 67, 78, 98]\n",
            "2nd smallest number is: 56\n",
            "2nd largestt number is: 78\n"
          ]
        }
      ]
    },
    {
      "cell_type": "code",
      "source": [
        "##Program to perform operations on string using unicodes ,splitting of string,accessing\n",
        "##elements of string using locations\n",
        "my_string=input(\"enter a string: \")\n",
        "print(my_string.split())\n",
        "print(my_string[3:69])"
      ],
      "metadata": {
        "colab": {
          "base_uri": "https://localhost:8080/"
        },
        "id": "S3F3Rh0_6iSN",
        "outputId": "179e0982-5a46-468e-f557-aa21cb06ca24"
      },
      "execution_count": null,
      "outputs": [
        {
          "output_type": "stream",
          "name": "stdout",
          "text": [
            "enter a string: vivek\n",
            "['vivek']\n",
            "ek\n"
          ]
        }
      ]
    },
    {
      "cell_type": "code",
      "source": [
        "##Program for replacing one substring by another For example - Rabbit - Replace µbb¶ b\\µcc¶\n",
        "friend1=\"vivek\"\n",
        "friend2=friend1.replace(\"k\",\"\")\n",
        "print(friend2)"
      ],
      "metadata": {
        "colab": {
          "base_uri": "https://localhost:8080/"
        },
        "id": "q7f75hBf6s19",
        "outputId": "3e3b9cdf-cd6b-4b8f-e864-fdf45a6bfc98"
      },
      "execution_count": null,
      "outputs": [
        {
          "output_type": "stream",
          "name": "stdout",
          "text": [
            "vive\n"
          ]
        }
      ]
    },
    {
      "cell_type": "code",
      "source": [
        "##Python function that accepts a string and calculates the number of uppercase\n",
        "##letters and lowercase letters.\n",
        "string=\"i hate my drinker in this WORLD\"\n",
        "count_1=0\n",
        "count_2=0\n",
        "for i in string:\n",
        "  if i.isupper():\n",
        "    count_1+=1\n",
        "  elif i.islower():\n",
        "     count_2+=1\n",
        "  else:\n",
        "    pass\n",
        "print(\"no.of uppercase alphabets are: \",count_1)\n",
        "print(\"no.of lowercase alphabets are: \",count_2)"
      ],
      "metadata": {
        "colab": {
          "base_uri": "https://localhost:8080/"
        },
        "id": "yeV2IyUj7C_0",
        "outputId": "47596c16-6d1f-4b4f-e337-0768d863550b"
      },
      "execution_count": 3,
      "outputs": [
        {
          "output_type": "stream",
          "name": "stdout",
          "text": [
            "no.of uppercase alphabets are:  5\n",
            "no.of lowercase alphabets are:  20\n"
          ]
        }
      ]
    },
    {
      "cell_type": "code",
      "source": [
        "##Program to count the number of strings where the string length is 2 or more and\n",
        "##the first and last character are same from a given list of strings\n",
        "sample_list =[ \"abc \", \"cat\",\"3551\",\"mari\",\"19\",\"mnopq\"]\n",
        "count=0\n",
        "for i in sample_list:\n",
        "  if len(i)>=2:\n",
        "   if i[0]==i[len(i)-1]:\n",
        "    print(i)\n",
        "  count+=1\n",
        "print(count)"
      ],
      "metadata": {
        "colab": {
          "base_uri": "https://localhost:8080/"
        },
        "id": "sq_Q8Lfj7Ikb",
        "outputId": "7d4fa5df-ad8d-4ab2-ee8b-1736fd77a1cc"
      },
      "execution_count": 4,
      "outputs": [
        {
          "output_type": "stream",
          "name": "stdout",
          "text": [
            "6\n"
          ]
        }
      ]
    },
    {
      "cell_type": "code",
      "source": [
        "l1 = [\"abc\",\"xyz\",\"aba\",\"1221\"]\n",
        "for word in l1:\n",
        "  if len(word) > 2 and word[0]==word[-1]:\n",
        "    print(word)"
      ],
      "metadata": {
        "colab": {
          "base_uri": "https://localhost:8080/"
        },
        "id": "9xg53OLQ6_Nn",
        "outputId": "6b0468b0-7fda-4f38-b714-3e67bace8433"
      },
      "execution_count": 5,
      "outputs": [
        {
          "output_type": "stream",
          "name": "stdout",
          "text": [
            "aba\n",
            "1221\n"
          ]
        }
      ]
    }
  ]
}